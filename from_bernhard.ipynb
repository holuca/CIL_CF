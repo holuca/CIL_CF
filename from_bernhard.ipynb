{
 "cells": [
  {
   "cell_type": "markdown",
   "id": "7188c139-ae26-4ecc-a17f-e557964e58cd",
   "metadata": {},
   "source": [
    "### Imports"
   ]
  },
  {
   "cell_type": "code",
   "execution_count": 2,
   "id": "bcaf5c05-153d-401a-924d-d3fb4421a441",
   "metadata": {
    "tags": []
   },
   "outputs": [],
   "source": [
    "import csv\n",
    "import os\n",
    "\n",
    "import numpy as np\n",
    "import pandas as pd\n",
    "\n",
    "import torch"
   ]
  },
  {
   "cell_type": "markdown",
   "id": "f98df375-5e1e-41d4-a7f4-0f4d2e883d0a",
   "metadata": {},
   "source": [
    "### Read in Dataset"
   ]
  },
  {
   "cell_type": "code",
   "execution_count": 3,
   "id": "d61b3b9d-0954-467f-a97d-e7497ceae6e0",
   "metadata": {
    "tags": []
   },
   "outputs": [],
   "source": [
    "# //----------------------------< read in dataset >----------------------------\\\\\n",
    "# list declaration\n",
    "r_vals = [] # row of entry\n",
    "c_vals = [] # column of entry\n",
    "rate_vals = [] # rating of entry\n",
    "\n",
    "# read in training data\n",
    "def readincsv():\n",
    "    data = pd.read_csv('data_train.csv')\n",
    "    datalist = data.values.tolist()\n",
    "    for i in datalist:\n",
    "        rc_val = i[0]\n",
    "        r_text = rc_val.split('_')[0]\n",
    "        c_text = rc_val.split('_')[1]\n",
    "        r_num = (int) (r_text[1:])\n",
    "        c_num = (int)(c_text[1:])\n",
    "        r_vals.append(r_num)\n",
    "        c_vals.append(c_num)\n",
    "\n",
    "        rate_val = (int) (i[1])\n",
    "        rate_vals.append(rate_val)\n",
    "    return\n",
    "\n",
    "readincsv()\n",
    "# \\\\----------------------------< read in dataset >----------------------------//"
   ]
  },
  {
   "cell_type": "code",
   "execution_count": 9,
   "id": "8b2f8b37-0c62-4d29-b7a6-a9355281db7f",
   "metadata": {
    "tags": []
   },
   "outputs": [
    {
     "name": "stdout",
     "output_type": "stream",
     "text": [
      "r_vals: [44, 61, 67, 72, 86]\n",
      "c_vals: [1, 1, 1, 1, 1]\n",
      "rate_vals: [4, 3, 4, 3, 5]\n"
     ]
    }
   ],
   "source": [
    "print(f'r_vals: {r_vals[0:5]}')\n",
    "print(f'c_vals: {c_vals[0:5]}')\n",
    "print(f'rate_vals: {rate_vals[0:5]}')"
   ]
  },
  {
   "cell_type": "markdown",
   "id": "6aa761b2-4ec1-4aff-ba3e-e9a44a224a45",
   "metadata": {},
   "source": [
    "### Mean Imputation"
   ]
  },
  {
   "cell_type": "code",
   "execution_count": 48,
   "id": "132db673-24cf-4749-a54b-4e766d70a075",
   "metadata": {
    "tags": []
   },
   "outputs": [],
   "source": [
    "# check for equal size of c_vals and rate_vals\n",
    "assert len(c_vals) == len(rate_vals), f'Length mismatch of c_vals (len = {len(c_vals)}) and rate_vals (len = {len(rate_vals)})'\n",
    "\n",
    "# initialize lists containing the sum and count for each item (which there are 1000 of as given in the task)\n",
    "# NOTE: Index from given data starts with 1. For internal calculations the index will be shifted by -1, i.e. 1->0, 2->1, ...\n",
    "c_sum = [0] * 1000\n",
    "c_count = [0]  * 1000\n",
    "\n",
    "for (column, rating) in zip(c_vals, rate_vals):\n",
    "    c_sum[column - 1] += rating\n",
    "    c_count[column - 1] += 1\n",
    "    \n",
    "c_mean = [0] * 1000\n",
    "\n",
    "for (rating_sum, rating_count) in zip(c_sum, c_count):\n",
    "    c_mean.append(rating_sum/rating_count)\n",
    "    # print(f'rating_sum: {rating_sum}, rating_count: {rating_count}, mean: {c_mean[-1]}')\n",
    "    \n"
   ]
  }
 ],
 "metadata": {
  "kernelspec": {
   "display_name": "Python 3 (ipykernel)",
   "language": "python",
   "name": "python3"
  },
  "language_info": {
   "codemirror_mode": {
    "name": "ipython",
    "version": 3
   },
   "file_extension": ".py",
   "mimetype": "text/x-python",
   "name": "python",
   "nbconvert_exporter": "python",
   "pygments_lexer": "ipython3",
   "version": "3.10.9"
  }
 },
 "nbformat": 4,
 "nbformat_minor": 5
}
