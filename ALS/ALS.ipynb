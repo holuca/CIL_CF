{
 "cells": [
  {
   "metadata": {},
   "cell_type": "markdown",
   "source": "# Imports",
   "id": "c9fd6cee05090ebb"
  },
  {
   "metadata": {
    "ExecuteTime": {
     "end_time": "2024-07-30T16:05:57.846190Z",
     "start_time": "2024-07-30T16:05:57.844164Z"
    }
   },
   "cell_type": "code",
   "source": [
    "import pandas as pd\n",
    "import numpy as np\n",
    "import torch\n",
    "import math"
   ],
   "id": "3d7c812ad2026d44",
   "outputs": [],
   "execution_count": 25
  },
  {
   "metadata": {},
   "cell_type": "markdown",
   "source": "# Supporting Functions",
   "id": "e90b896536565b4e"
  },
  {
   "metadata": {
    "ExecuteTime": {
     "end_time": "2024-07-30T16:05:57.850724Z",
     "start_time": "2024-07-30T16:05:57.849Z"
    }
   },
   "cell_type": "code",
   "source": [
    "# Definition of file names to import and export\n",
    "input_csv, relevant_values_csv, output_csv = 'data_train.csv', 'sampleSubmission.csv', 'result.csv'"
   ],
   "id": "962a8538600e357c",
   "outputs": [],
   "execution_count": 26
  },
  {
   "metadata": {
    "ExecuteTime": {
     "end_time": "2024-07-30T16:05:57.862018Z",
     "start_time": "2024-07-30T16:05:57.857703Z"
    }
   },
   "cell_type": "code",
   "source": [
    "# Converts the input CSV to a usable format\n",
    "def convert_csv_to_matrix(input_csv, format):\n",
    "    df = pd.read_csv(input_csv)\n",
    "    \n",
    "    df['row'] = df['Id'].apply(lambda x: int(x.split('_')[0][1:]))\n",
    "    df['col'] = df['Id'].apply(lambda x: int(x.split('_')[1][1:]))\n",
    "    \n",
    "    max_row = df['row'].max()\n",
    "    max_col = df['col'].max()\n",
    "\n",
    "    if(format == \"zero\"):\n",
    "        matrix = np.zeros((max_row, max_col))\n",
    "        for index, row in df.iterrows():\n",
    "            matrix[row['row']-1, row['col']-1] = row['Prediction']\n",
    "\n",
    "    else:\n",
    "        # Initialize and populate dictionary to store rows\n",
    "        row_dict = {i: {} for i in range(1, max_row + 1)}\n",
    "        for index, row in df.iterrows():\n",
    "            row_dict[row['row']][row['col']] = row['Prediction']\n",
    "\n",
    "\n",
    "        matrix = np.full((max_row, max_col), np.nan)\n",
    "        for r in range(1, max_row + 1):\n",
    "            for c in range(1, max_col + 1):\n",
    "                if c in row_dict[r]:\n",
    "                    matrix[r-1, c-1] = row_dict[r][c]\n",
    "    \n",
    "    return matrix"
   ],
   "id": "f857a93f273d41da",
   "outputs": [],
   "execution_count": 27
  },
  {
   "metadata": {
    "ExecuteTime": {
     "end_time": "2024-07-30T16:05:57.866315Z",
     "start_time": "2024-07-30T16:05:57.863228Z"
    }
   },
   "cell_type": "code",
   "source": [
    "# Converts a given matrix into the required CSV output format\n",
    "def save_matrix_to_csv(matrix, relevant_values_csv, output_csv):\n",
    "    # Import the relevant values csv and convert to dataframe\n",
    "    relevant_values_df = pd.DataFrame(convert_csv_to_matrix(relevant_values_csv, 'zero'))\n",
    "    \n",
    "    matrix_df = pd.DataFrame(matrix)\n",
    "    \n",
    "    # Create a filtered version of the matrix. The criteria used is: relevant_values_df == 3\n",
    "    filtered_matrix_df = matrix_df.where(relevant_values_df == 3, other=np.nan)\n",
    "    \n",
    "    # Reshape the matrix into one column and reset the index; also removes NaN values\n",
    "    stacked_df = filtered_matrix_df.stack().reset_index()\n",
    "    \n",
    "    # Rename the columns\n",
    "    stacked_df.columns = ['row', 'col', 'val']\n",
    "    \n",
    "    # Create the desired rN_cN format for the final output\n",
    "    stacked_df['row'] = (stacked_df['row'] + 1).astype(str)\n",
    "    stacked_df['col'] = (stacked_df['col'] + 1).astype(str)\n",
    "    stacked_df['r_c'] = 'r' + stacked_df['row'] + '_c' + stacked_df['col']\n",
    "    \n",
    "    result_df = stacked_df[['r_c', 'val']]\n",
    "    \n",
    "    result_df.to_csv(output_csv, index=False, header=['Id', 'Prediction'])"
   ],
   "id": "d328033b27f744b2",
   "outputs": [],
   "execution_count": 28
  },
  {
   "metadata": {},
   "cell_type": "markdown",
   "source": "# Import Matrix and Choose Parameters",
   "id": "3e9f1fee83bf8ea2"
  },
  {
   "metadata": {
    "ExecuteTime": {
     "end_time": "2024-07-30T16:05:57.871116Z",
     "start_time": "2024-07-30T16:05:57.867494Z"
    }
   },
   "cell_type": "code",
   "source": [
    "rows, cols = 10000, 1000\n",
    "rank = 7\n",
    "regularization_lambda = 0.01\n",
    "num_iterations = 100\n",
    "\n",
    "torch.manual_seed(31415)"
   ],
   "id": "850c513657bc8498",
   "outputs": [
    {
     "data": {
      "text/plain": [
       "<torch._C.Generator at 0x10bfbc330>"
      ]
     },
     "execution_count": 29,
     "metadata": {},
     "output_type": "execute_result"
    }
   ],
   "execution_count": 29
  },
  {
   "metadata": {
    "ExecuteTime": {
     "end_time": "2024-07-30T16:06:18.396682Z",
     "start_time": "2024-07-30T16:05:57.872779Z"
    }
   },
   "cell_type": "code",
   "source": [
    "# Import matrix from CSV, impute missing values by zeros, and convert into a torch float tensor\n",
    "matrix = convert_csv_to_matrix(input_csv, 'zero')\n",
    "torch_matrix = torch.from_numpy(matrix)\n",
    "A = torch_matrix.float()\n",
    "\n",
    "# Create mask of the known values, i.e. the non-zero values\n",
    "known_values_mask = A != 0\n",
    "\n",
    "# Initialize the matrices U and V\n",
    "U = torch.randn(rows, rank)\n",
    "V = torch.randn(cols, rank)"
   ],
   "id": "2252b8b6694fd6db",
   "outputs": [],
   "execution_count": 30
  },
  {
   "metadata": {},
   "cell_type": "markdown",
   "source": [
    "# Core ALS Algorithm\n",
    "Adapted from the lecture script"
   ],
   "id": "f40df48d9bd0462d"
  },
  {
   "metadata": {
    "ExecuteTime": {
     "end_time": "2024-07-30T16:06:18.400186Z",
     "start_time": "2024-07-30T16:06:18.397673Z"
    }
   },
   "cell_type": "code",
   "source": [
    "# Calculate the quadratic part of formula (2.36), for easier use during the summation\n",
    "\n",
    "def calculate_Q(input_matrix):\n",
    "    dim_1 = input_matrix.shape[0]   # Rows or Columns \n",
    "    dim_rank = input_matrix.shape[1]   # Rank\n",
    "    \n",
    "    Q = torch.zeros(dim_1, dim_rank, dim_rank)\n",
    "    for i in range(dim_1):\n",
    "        Q[i] = input_matrix[i].unsqueeze(0).T @ input_matrix[i].unsqueeze(0)\n",
    "        \n",
    "    return Q"
   ],
   "id": "e2a27824c6e24ee",
   "outputs": [],
   "execution_count": 31
  },
  {
   "metadata": {
    "ExecuteTime": {
     "end_time": "2024-07-30T17:06:38.422604Z",
     "start_time": "2024-07-30T16:06:18.401070Z"
    }
   },
   "cell_type": "code",
   "source": [
    "predicted_ratings = A.clone()\n",
    "\n",
    "for iteration in range(num_iterations):\n",
    "    # Optimize V, while U is fixed\n",
    "    Q_U = calculate_Q(U)\n",
    "\n",
    "    B_U = U.T @ A\n",
    "\n",
    "    for col in range(cols):\n",
    "        sum_U_fixed = 0\n",
    "        for row in range(rows):\n",
    "            if known_values_mask[row, col]:\n",
    "                sum_U_fixed += Q_U[row, :, :]\n",
    "        inv = torch.linalg.inv(sum_U_fixed + 2 * regularization_lambda * torch.eye(rank))\n",
    "        V[col] = inv @ B_U[:, col]\n",
    "    \n",
    "    # Optimize U, while V is fixed\n",
    "    Q_V = calculate_Q(V)\n",
    "\n",
    "    B_V = V.T @ A.T\n",
    "    \n",
    "    for row in range(rows):\n",
    "        sum_V_fixed = 0\n",
    "        for col in range(cols):\n",
    "            if known_values_mask[row, col]:\n",
    "                sum_V_fixed += Q_V[col, :, :]\n",
    "        inv = torch.linalg.inv(sum_V_fixed + 2 * regularization_lambda * torch.eye(rank))\n",
    "        U[row] = inv @ B_V[:, row]\n",
    "\n",
    "    predicted_ratings = U @ V.T\n",
    "    \n",
    "    # Calculate and display the loss for the known values\n",
    "    print(f'Iteration {iteration + 1}/{num_iterations}, Error: {round(math.sqrt(torch.nn.functional.mse_loss(predicted_ratings[known_values_mask], A[known_values_mask]).item()),5)}')\n",
    "\n",
    "# Clamp the result matrix to [1,5]\n",
    "matrix_out = torch.clamp(predicted_ratings, min=1.0, max=5.0)"
   ],
   "id": "85eed9f1ea406e65",
   "outputs": [
    {
     "name": "stdout",
     "output_type": "stream",
     "text": [
      "Iteration 1/100, Error: 2.54482\n",
      "Iteration 2/100, Error: 0.964\n",
      "Iteration 3/100, Error: 0.94186\n",
      "Iteration 4/100, Error: 0.93445\n",
      "Iteration 5/100, Error: 0.93049\n",
      "Iteration 6/100, Error: 0.92795\n",
      "Iteration 7/100, Error: 0.92615\n",
      "Iteration 8/100, Error: 0.9248\n",
      "Iteration 9/100, Error: 0.92375\n",
      "Iteration 10/100, Error: 0.92292\n",
      "Iteration 11/100, Error: 0.92227\n",
      "Iteration 12/100, Error: 0.92178\n",
      "Iteration 13/100, Error: 0.92143\n",
      "Iteration 14/100, Error: 0.92118\n",
      "Iteration 15/100, Error: 0.92101\n",
      "Iteration 16/100, Error: 0.92088\n",
      "Iteration 17/100, Error: 0.92079\n",
      "Iteration 18/100, Error: 0.92072\n",
      "Iteration 19/100, Error: 0.92067\n",
      "Iteration 20/100, Error: 0.92062\n",
      "Iteration 21/100, Error: 0.92059\n",
      "Iteration 22/100, Error: 0.92056\n",
      "Iteration 23/100, Error: 0.92053\n",
      "Iteration 24/100, Error: 0.92051\n",
      "Iteration 25/100, Error: 0.92049\n",
      "Iteration 26/100, Error: 0.92047\n",
      "Iteration 27/100, Error: 0.92046\n",
      "Iteration 28/100, Error: 0.92045\n",
      "Iteration 29/100, Error: 0.92043\n",
      "Iteration 30/100, Error: 0.92042\n",
      "Iteration 31/100, Error: 0.92041\n",
      "Iteration 32/100, Error: 0.9204\n",
      "Iteration 33/100, Error: 0.92039\n",
      "Iteration 34/100, Error: 0.92039\n",
      "Iteration 35/100, Error: 0.92038\n",
      "Iteration 36/100, Error: 0.92037\n",
      "Iteration 37/100, Error: 0.92037\n",
      "Iteration 38/100, Error: 0.92036\n",
      "Iteration 39/100, Error: 0.92035\n",
      "Iteration 40/100, Error: 0.92035\n",
      "Iteration 41/100, Error: 0.92034\n",
      "Iteration 42/100, Error: 0.92034\n",
      "Iteration 43/100, Error: 0.92033\n",
      "Iteration 44/100, Error: 0.92033\n",
      "Iteration 45/100, Error: 0.92033\n",
      "Iteration 46/100, Error: 0.92032\n",
      "Iteration 47/100, Error: 0.92032\n",
      "Iteration 48/100, Error: 0.92031\n",
      "Iteration 49/100, Error: 0.92031\n",
      "Iteration 50/100, Error: 0.92031\n",
      "Iteration 51/100, Error: 0.9203\n",
      "Iteration 52/100, Error: 0.9203\n",
      "Iteration 53/100, Error: 0.9203\n",
      "Iteration 54/100, Error: 0.92029\n",
      "Iteration 55/100, Error: 0.92029\n",
      "Iteration 56/100, Error: 0.92029\n",
      "Iteration 57/100, Error: 0.92028\n",
      "Iteration 58/100, Error: 0.92028\n",
      "Iteration 59/100, Error: 0.92028\n",
      "Iteration 60/100, Error: 0.92028\n",
      "Iteration 61/100, Error: 0.92027\n",
      "Iteration 62/100, Error: 0.92027\n",
      "Iteration 63/100, Error: 0.92027\n",
      "Iteration 64/100, Error: 0.92027\n",
      "Iteration 65/100, Error: 0.92027\n",
      "Iteration 66/100, Error: 0.92026\n",
      "Iteration 67/100, Error: 0.92026\n",
      "Iteration 68/100, Error: 0.92026\n",
      "Iteration 69/100, Error: 0.92026\n",
      "Iteration 70/100, Error: 0.92026\n",
      "Iteration 71/100, Error: 0.92025\n",
      "Iteration 72/100, Error: 0.92025\n",
      "Iteration 73/100, Error: 0.92025\n",
      "Iteration 74/100, Error: 0.92025\n",
      "Iteration 75/100, Error: 0.92025\n",
      "Iteration 76/100, Error: 0.92024\n",
      "Iteration 77/100, Error: 0.92024\n",
      "Iteration 78/100, Error: 0.92024\n",
      "Iteration 79/100, Error: 0.92024\n",
      "Iteration 80/100, Error: 0.92024\n",
      "Iteration 81/100, Error: 0.92024\n",
      "Iteration 82/100, Error: 0.92024\n",
      "Iteration 83/100, Error: 0.92023\n",
      "Iteration 84/100, Error: 0.92023\n",
      "Iteration 85/100, Error: 0.92023\n",
      "Iteration 86/100, Error: 0.92023\n",
      "Iteration 87/100, Error: 0.92023\n",
      "Iteration 88/100, Error: 0.92023\n",
      "Iteration 89/100, Error: 0.92023\n",
      "Iteration 90/100, Error: 0.92022\n",
      "Iteration 91/100, Error: 0.92022\n",
      "Iteration 92/100, Error: 0.92022\n",
      "Iteration 93/100, Error: 0.92022\n",
      "Iteration 94/100, Error: 0.92022\n",
      "Iteration 95/100, Error: 0.92022\n",
      "Iteration 96/100, Error: 0.92022\n",
      "Iteration 97/100, Error: 0.92021\n",
      "Iteration 98/100, Error: 0.92021\n",
      "Iteration 99/100, Error: 0.92021\n",
      "Iteration 100/100, Error: 0.92021\n"
     ]
    }
   ],
   "execution_count": 32
  },
  {
   "metadata": {},
   "cell_type": "markdown",
   "source": "# Export Matrix to CSV",
   "id": "f875268f9b44ced6"
  },
  {
   "metadata": {
    "ExecuteTime": {
     "end_time": "2024-07-30T17:07:00.349410Z",
     "start_time": "2024-07-30T17:06:38.423563Z"
    }
   },
   "cell_type": "code",
   "source": [
    "# Save the matrix to the output CSV\n",
    "save_matrix_to_csv(matrix_out, relevant_values_csv, output_csv)"
   ],
   "id": "initial_id",
   "outputs": [],
   "execution_count": 33
  },
  {
   "metadata": {
    "ExecuteTime": {
     "end_time": "2024-07-30T17:07:00.351739Z",
     "start_time": "2024-07-30T17:07:00.350194Z"
    }
   },
   "cell_type": "code",
   "source": "",
   "id": "52b688a999f0775f",
   "outputs": [],
   "execution_count": 33
  }
 ],
 "metadata": {
  "kernelspec": {
   "display_name": "Python 3",
   "language": "python",
   "name": "python3"
  },
  "language_info": {
   "codemirror_mode": {
    "name": "ipython",
    "version": 2
   },
   "file_extension": ".py",
   "mimetype": "text/x-python",
   "name": "python",
   "nbconvert_exporter": "python",
   "pygments_lexer": "ipython2",
   "version": "2.7.6"
  }
 },
 "nbformat": 4,
 "nbformat_minor": 5
}
