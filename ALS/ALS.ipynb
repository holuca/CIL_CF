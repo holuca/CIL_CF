{
 "cells": [
  {
   "metadata": {},
   "cell_type": "markdown",
   "source": "# Imports",
   "id": "c9fd6cee05090ebb"
  },
  {
   "metadata": {
    "ExecuteTime": {
     "end_time": "2024-07-23T17:12:00.280660Z",
     "start_time": "2024-07-23T17:11:56.750550Z"
    }
   },
   "cell_type": "code",
   "source": [
    "import pandas as pd\n",
    "import numpy as np\n",
    "import torch"
   ],
   "id": "3d7c812ad2026d44",
   "outputs": [],
   "execution_count": 1
  },
  {
   "metadata": {},
   "cell_type": "markdown",
   "source": "# Supporting Functions",
   "id": "e90b896536565b4e"
  },
  {
   "metadata": {
    "ExecuteTime": {
     "end_time": "2024-07-23T17:12:00.283546Z",
     "start_time": "2024-07-23T17:12:00.281913Z"
    }
   },
   "cell_type": "code",
   "source": [
    "# Definition of file names to import and export\n",
    "input_csv, relevant_values_csv, output_csv = 'data_train.csv', 'sampleSubmission.csv', 'result.csv'"
   ],
   "id": "962a8538600e357c",
   "outputs": [],
   "execution_count": 2
  },
  {
   "metadata": {
    "ExecuteTime": {
     "end_time": "2024-07-23T17:12:00.288219Z",
     "start_time": "2024-07-23T17:12:00.284355Z"
    }
   },
   "cell_type": "code",
   "source": [
    "# Converts the input CSV to a usable format\n",
    "def convert_csv_to_matrix(input_csv, format):\n",
    "    df = pd.read_csv(input_csv)\n",
    "    \n",
    "    df['row'] = df['Id'].apply(lambda x: int(x.split('_')[0][1:]))\n",
    "    df['col'] = df['Id'].apply(lambda x: int(x.split('_')[1][1:]))\n",
    "    \n",
    "    max_row = df['row'].max()\n",
    "    max_col = df['col'].max()\n",
    "\n",
    "    if(format == \"zero\"):\n",
    "        matrix = np.zeros((max_row, max_col))\n",
    "        for index, row in df.iterrows():\n",
    "            matrix[row['row']-1, row['col']-1] = row['Prediction']\n",
    "\n",
    "    else:\n",
    "        # Initialize and populate dictionary to store rows\n",
    "        row_dict = {i: {} for i in range(1, max_row + 1)}\n",
    "        for index, row in df.iterrows():\n",
    "            row_dict[row['row']][row['col']] = row['Prediction']\n",
    "\n",
    "\n",
    "        matrix = np.full((max_row, max_col), np.nan)\n",
    "        for r in range(1, max_row + 1):\n",
    "            for c in range(1, max_col + 1):\n",
    "                if c in row_dict[r]:\n",
    "                    matrix[r-1, c-1] = row_dict[r][c]\n",
    "    \n",
    "    return matrix"
   ],
   "id": "f857a93f273d41da",
   "outputs": [],
   "execution_count": 3
  },
  {
   "metadata": {
    "ExecuteTime": {
     "end_time": "2024-07-23T17:12:00.291542Z",
     "start_time": "2024-07-23T17:12:00.288825Z"
    }
   },
   "cell_type": "code",
   "source": [
    "# Converts a given matrix into the required CSV output format\n",
    "def save_matrix_to_csv(matrix, relevant_values_csv, output_csv):\n",
    "    # Import the relevant values csv and convert to dataframe\n",
    "    relevant_values_df = pd.DataFrame(convert_csv_to_matrix(relevant_values_csv, 'zero'))\n",
    "    \n",
    "    matrix_df = pd.DataFrame(matrix)\n",
    "    \n",
    "    # Create a filtered version of the matrix. The criteria used is: relevant_values_df == 3\n",
    "    filtered_matrix_df = matrix_df.where(relevant_values_df == 3, other=np.nan)\n",
    "    \n",
    "    # Reshape the matrix into one column and reset the index; also removes NaN values\n",
    "    stacked_df = filtered_matrix_df.stack().reset_index()\n",
    "    \n",
    "    # Rename the columns\n",
    "    stacked_df.columns = ['row', 'col', 'val']\n",
    "    \n",
    "    # Create the desired rN_cN format for the final output\n",
    "    stacked_df['row'] = (stacked_df['row'] + 1).astype(str)\n",
    "    stacked_df['col'] = (stacked_df['col'] + 1).astype(str)\n",
    "    stacked_df['r_c'] = 'r' + stacked_df['row'] + '_c' + stacked_df['col']\n",
    "    \n",
    "    result_df = stacked_df[['r_c', 'val']]\n",
    "    \n",
    "    result_df.to_csv(output_csv, index=False, header=['Id', 'Prediction'])"
   ],
   "id": "d328033b27f744b2",
   "outputs": [],
   "execution_count": 4
  },
  {
   "metadata": {},
   "cell_type": "markdown",
   "source": "# Import Matrix and Choose Parameters",
   "id": "3e9f1fee83bf8ea2"
  },
  {
   "metadata": {
    "ExecuteTime": {
     "end_time": "2024-07-23T17:12:00.301334Z",
     "start_time": "2024-07-23T17:12:00.292843Z"
    }
   },
   "cell_type": "code",
   "source": [
    "rows, cols = 10000, 1000\n",
    "rank = 7\n",
    "regularization_lambda = 0.01\n",
    "num_iterations = 100\n",
    "\n",
    "torch.manual_seed(31415)"
   ],
   "id": "850c513657bc8498",
   "outputs": [
    {
     "data": {
      "text/plain": [
       "<torch._C.Generator at 0x1133022f0>"
      ]
     },
     "execution_count": 5,
     "metadata": {},
     "output_type": "execute_result"
    }
   ],
   "execution_count": 5
  },
  {
   "metadata": {
    "ExecuteTime": {
     "end_time": "2024-07-23T17:12:21.198614Z",
     "start_time": "2024-07-23T17:12:00.301991Z"
    }
   },
   "cell_type": "code",
   "source": [
    "# Import matrix from CSV, impute missing values by zeros, and convert into a torch float tensor\n",
    "matrix = convert_csv_to_matrix(input_csv, 'zero')\n",
    "torch_matrix = torch.from_numpy(matrix)\n",
    "A = torch_matrix.float()\n",
    "\n",
    "# Create mask of the known values, i.e. the non-zero values\n",
    "known_values_mask = A != 0\n",
    "\n",
    "# Initialize the matrices U and V\n",
    "U = torch.randn(rows, rank)\n",
    "V = torch.randn(cols, rank)"
   ],
   "id": "2252b8b6694fd6db",
   "outputs": [],
   "execution_count": 6
  },
  {
   "metadata": {},
   "cell_type": "markdown",
   "source": [
    "# Core ALS Algorithm\n",
    "Adapted from the lecture script"
   ],
   "id": "f40df48d9bd0462d"
  },
  {
   "metadata": {
    "ExecuteTime": {
     "end_time": "2024-07-23T17:12:21.201596Z",
     "start_time": "2024-07-23T17:12:21.199489Z"
    }
   },
   "cell_type": "code",
   "source": [
    "# Calculate the quadratic part of formula (2.36), for easier use during the summation\n",
    "\n",
    "def calculate_Q(input_matrix):\n",
    "    dim_1 = input_matrix.shape[0]   # Rows or Columns \n",
    "    dim_rank = input_matrix.shape[1]   # Rank\n",
    "    \n",
    "    Q = torch.zeros(dim_1, dim_rank, dim_rank)\n",
    "    for i in range(dim_1):\n",
    "        Q[i] = input_matrix[i].unsqueeze(0).T @ input_matrix[i].unsqueeze(0)\n",
    "        \n",
    "    return Q"
   ],
   "id": "e2a27824c6e24ee",
   "outputs": [],
   "execution_count": 7
  },
  {
   "metadata": {
    "ExecuteTime": {
     "end_time": "2024-07-23T18:49:10.106207Z",
     "start_time": "2024-07-23T17:12:21.202570Z"
    }
   },
   "cell_type": "code",
   "source": [
    "predicted_ratings = A.clone()\n",
    "\n",
    "for iteration in range(num_iterations):\n",
    "    # Optimize V, while U is fixed\n",
    "    Q_U = calculate_Q(U)\n",
    "\n",
    "    B_U = U.T @ A\n",
    "\n",
    "    for col in range(cols):\n",
    "        sum_U_fixed = 0\n",
    "        for row in range(rows):\n",
    "            if known_values_mask[row, col]:\n",
    "                sum_U_fixed += Q_U[row, :, :]\n",
    "        inv = torch.linalg.inv(sum_U_fixed + 2 * regularization_lambda * torch.eye(rank))\n",
    "        V[col] = inv @ B_U[:, col]\n",
    "    \n",
    "    # Optimize U, while V is fixed\n",
    "    Q_V = calculate_Q(V)\n",
    "\n",
    "    B_V = V.T @ A.T\n",
    "    \n",
    "    for row in range(rows):\n",
    "        sum_V_fixed = 0\n",
    "        for col in range(cols):\n",
    "            if known_values_mask[row, col]:\n",
    "                sum_V_fixed += Q_V[col, :, :]\n",
    "        inv = torch.linalg.inv(sum_V_fixed + 2 * regularization_lambda * torch.eye(rank))\n",
    "        U[row] = inv @ B_V[:, row]\n",
    "\n",
    "    predicted_ratings = U @ V.T\n",
    "    \n",
    "    # Calculate and display the loss for the known values\n",
    "    loss = torch.nn.functional.mse_loss(predicted_ratings[known_values_mask], A[known_values_mask])\n",
    "    print(f\"Iteration {iteration + 1}/{num_iterations}, Loss: {loss.item()}\")\n",
    "\n",
    "# Clamp the result matrix to [1,5]\n",
    "matrix_out = torch.clamp(predicted_ratings, min=1.0, max=5.0)"
   ],
   "id": "85eed9f1ea406e65",
   "outputs": [
    {
     "name": "stdout",
     "output_type": "stream",
     "text": [
      "Iteration 1/100, Loss: 6.476088047027588\n",
      "Iteration 2/100, Loss: 0.9292984008789062\n",
      "Iteration 3/100, Loss: 0.8871027827262878\n",
      "Iteration 4/100, Loss: 0.8731980919837952\n",
      "Iteration 5/100, Loss: 0.8658161163330078\n",
      "Iteration 6/100, Loss: 0.8610936999320984\n",
      "Iteration 7/100, Loss: 0.8577538728713989\n",
      "Iteration 8/100, Loss: 0.8552613854408264\n",
      "Iteration 9/100, Loss: 0.8533205986022949\n",
      "Iteration 10/100, Loss: 0.8517808318138123\n",
      "Iteration 11/100, Loss: 0.8505814075469971\n",
      "Iteration 12/100, Loss: 0.8496842980384827\n",
      "Iteration 13/100, Loss: 0.8490375876426697\n",
      "Iteration 14/100, Loss: 0.8485803008079529\n",
      "Iteration 15/100, Loss: 0.8482570648193359\n",
      "Iteration 16/100, Loss: 0.8480250835418701\n",
      "Iteration 17/100, Loss: 0.847854495048523\n",
      "Iteration 18/100, Loss: 0.8477253913879395\n",
      "Iteration 19/100, Loss: 0.8476249575614929\n",
      "Iteration 20/100, Loss: 0.8475447297096252\n",
      "Iteration 21/100, Loss: 0.8474792242050171\n",
      "Iteration 22/100, Loss: 0.8474245071411133\n",
      "Iteration 23/100, Loss: 0.8473782539367676\n",
      "Iteration 24/100, Loss: 0.8473383188247681\n",
      "Iteration 25/100, Loss: 0.8473034501075745\n",
      "Iteration 26/100, Loss: 0.8472728133201599\n",
      "Iteration 27/100, Loss: 0.8472453951835632\n",
      "Iteration 28/100, Loss: 0.8472208380699158\n",
      "Iteration 29/100, Loss: 0.8471986055374146\n",
      "Iteration 30/100, Loss: 0.8471783399581909\n",
      "Iteration 31/100, Loss: 0.847159743309021\n",
      "Iteration 32/100, Loss: 0.8471426367759705\n",
      "Iteration 33/100, Loss: 0.847126841545105\n",
      "Iteration 34/100, Loss: 0.8471120595932007\n",
      "Iteration 35/100, Loss: 0.8470984101295471\n",
      "Iteration 36/100, Loss: 0.8470855951309204\n",
      "Iteration 37/100, Loss: 0.8470736145973206\n",
      "Iteration 38/100, Loss: 0.8470622897148132\n",
      "Iteration 39/100, Loss: 0.8470516800880432\n",
      "Iteration 40/100, Loss: 0.8470418453216553\n",
      "Iteration 41/100, Loss: 0.8470322489738464\n",
      "Iteration 42/100, Loss: 0.8470232486724854\n",
      "Iteration 43/100, Loss: 0.8470146059989929\n",
      "Iteration 44/100, Loss: 0.8470064997673035\n",
      "Iteration 45/100, Loss: 0.8469986319541931\n",
      "Iteration 46/100, Loss: 0.8469911813735962\n",
      "Iteration 47/100, Loss: 0.8469838500022888\n",
      "Iteration 48/100, Loss: 0.8469769358634949\n",
      "Iteration 49/100, Loss: 0.8469701409339905\n",
      "Iteration 50/100, Loss: 0.8469635844230652\n",
      "Iteration 51/100, Loss: 0.8469572067260742\n",
      "Iteration 52/100, Loss: 0.8469510674476624\n",
      "Iteration 53/100, Loss: 0.8469449877738953\n",
      "Iteration 54/100, Loss: 0.846939206123352\n",
      "Iteration 55/100, Loss: 0.8469335436820984\n",
      "Iteration 56/100, Loss: 0.8469282388687134\n",
      "Iteration 57/100, Loss: 0.8469230532646179\n",
      "Iteration 58/100, Loss: 0.8469181060791016\n",
      "Iteration 59/100, Loss: 0.8469133377075195\n",
      "Iteration 60/100, Loss: 0.8469088077545166\n",
      "Iteration 61/100, Loss: 0.8469042778015137\n",
      "Iteration 62/100, Loss: 0.8468999266624451\n",
      "Iteration 63/100, Loss: 0.8468957543373108\n",
      "Iteration 64/100, Loss: 0.8468917012214661\n",
      "Iteration 65/100, Loss: 0.8468877673149109\n",
      "Iteration 66/100, Loss: 0.8468838930130005\n",
      "Iteration 67/100, Loss: 0.8468801975250244\n",
      "Iteration 68/100, Loss: 0.8468765616416931\n",
      "Iteration 69/100, Loss: 0.8468730449676514\n",
      "Iteration 70/100, Loss: 0.8468695878982544\n",
      "Iteration 71/100, Loss: 0.8468661904335022\n",
      "Iteration 72/100, Loss: 0.8468629121780396\n",
      "Iteration 73/100, Loss: 0.8468597531318665\n",
      "Iteration 74/100, Loss: 0.846856415271759\n",
      "Iteration 75/100, Loss: 0.8468533158302307\n",
      "Iteration 76/100, Loss: 0.8468502163887024\n",
      "Iteration 77/100, Loss: 0.8468472361564636\n",
      "Iteration 78/100, Loss: 0.8468443155288696\n",
      "Iteration 79/100, Loss: 0.8468413352966309\n",
      "Iteration 80/100, Loss: 0.8468384742736816\n",
      "Iteration 81/100, Loss: 0.8468355536460876\n",
      "Iteration 82/100, Loss: 0.8468328714370728\n",
      "Iteration 83/100, Loss: 0.8468300700187683\n",
      "Iteration 84/100, Loss: 0.8468273878097534\n",
      "Iteration 85/100, Loss: 0.8468247056007385\n",
      "Iteration 86/100, Loss: 0.8468221426010132\n",
      "Iteration 87/100, Loss: 0.8468194603919983\n",
      "Iteration 88/100, Loss: 0.846816897392273\n",
      "Iteration 89/100, Loss: 0.8468143343925476\n",
      "Iteration 90/100, Loss: 0.846811830997467\n",
      "Iteration 91/100, Loss: 0.8468092679977417\n",
      "Iteration 92/100, Loss: 0.8468068242073059\n",
      "Iteration 93/100, Loss: 0.8468043804168701\n",
      "Iteration 94/100, Loss: 0.8468020558357239\n",
      "Iteration 95/100, Loss: 0.8467996120452881\n",
      "Iteration 96/100, Loss: 0.8467972874641418\n",
      "Iteration 97/100, Loss: 0.8467950224876404\n",
      "Iteration 98/100, Loss: 0.8467926979064941\n",
      "Iteration 99/100, Loss: 0.8467904329299927\n",
      "Iteration 100/100, Loss: 0.8467881679534912\n"
     ]
    }
   ],
   "execution_count": 8
  },
  {
   "metadata": {},
   "cell_type": "markdown",
   "source": "# Export Matrix to CSV",
   "id": "f875268f9b44ced6"
  },
  {
   "metadata": {
    "ExecuteTime": {
     "end_time": "2024-07-23T21:05:23.649947Z",
     "start_time": "2024-07-23T21:05:00.607595Z"
    }
   },
   "cell_type": "code",
   "source": [
    "# Save the matrix to the output CSV\n",
    "save_matrix_to_csv(matrix_out, relevant_values_csv, output_csv)"
   ],
   "id": "initial_id",
   "outputs": [],
   "execution_count": 10
  },
  {
   "metadata": {},
   "cell_type": "code",
   "outputs": [],
   "execution_count": null,
   "source": "",
   "id": "52b688a999f0775f"
  }
 ],
 "metadata": {
  "kernelspec": {
   "display_name": "Python 3",
   "language": "python",
   "name": "python3"
  },
  "language_info": {
   "codemirror_mode": {
    "name": "ipython",
    "version": 2
   },
   "file_extension": ".py",
   "mimetype": "text/x-python",
   "name": "python",
   "nbconvert_exporter": "python",
   "pygments_lexer": "ipython2",
   "version": "2.7.6"
  }
 },
 "nbformat": 4,
 "nbformat_minor": 5
}
